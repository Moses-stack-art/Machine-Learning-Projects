{
 "cells": [
  {
   "cell_type": "markdown",
   "id": "d326bd29",
   "metadata": {},
   "source": [
    "<center><h1><b>FLIGHT DELAY PREDICTION</b></h1></center>"
   ]
  },
  {
   "cell_type": "markdown",
   "id": "cf3483ca",
   "metadata": {},
   "source": [
    "![AEROPLANE IMAGE](AEROPLANE.jpg)\n"
   ]
  },
  {
   "cell_type": "markdown",
   "id": "ec48f725",
   "metadata": {},
   "source": [
    "## Problem definition.\n",
    "\n",
    " >Predicting flight delays for the upcoming January 2020 using flight data from January 2019 and January 2020.\n",
    "     It's a binary classification task.\n",
    "     Each dataset contains 21 variables.\n",
    "     The dataset includes flights from both January 2019 and January 2020.\n",
    "     The target variable for classification is 'ARR_DEL15'.\n",
    "\n",
    "### Variable dictionary:\n",
    "     -'DAY_OF_MONTH': Day of the month.\n",
    "     -'DAY_OF_WEEK': Day of the week.\n",
    "     -'OP_UNIQUE_CARRIER': Unique transport code.\n",
    "     -'OP_CARRIER_AIRLINE_ID': Unique aviation operator code.\n",
    "     -'OP_CARRIER': IATA code of the operator.\n",
    "     -'TAIL_NUM': Tail number.\n",
    "     -'OP_CARRIER_FL_NUM': Flight number.\n",
    "     -'ORIGIN_AIRPORT_ID': Origin airport ID.\n",
    "     -'ORIGIN_AIRPORT_SEQ_ID': Origin airport ID - SEQ.\n",
    "     -'ORIGIN': Airport of Origin.\n",
    "     -'DEST_AIRPORT_ID': ID of the destination airport.\n",
    "     -'DEST_AIRPORT_SEQ_ID': Destination airport ID - SEQ.\n",
    "     -'DEST': Destination airport.\n",
    "     -'DEP_TIME': Flight departure time.\n",
    "     -'DEP_DEL15': Departure delay indicator\n",
    "     -'DEP_TIME_BLK': block of time (hour) where the match has been postponed.\n",
    "     -'ARR_TIME': Flight arrival time.\n",
    "     -'ARR_DEL15': Arrival delay indicator.\n",
    "     -'CANCELLED': Flight cancellation indicator.\n",
    "     -'DIVERTED': Indicator if the flight has been diverted.\n",
    "     -'DISTANCE': Distance between airports.\n"
   ]
  },
  {
   "cell_type": "code",
   "execution_count": 56,
   "id": "d83f0040",
   "metadata": {},
   "outputs": [],
   "source": [
    "# Import necessary libraries\n",
    "import os\n",
    "import numpy as np\n",
    "import pandas as pd\n",
    "from sklearn.svm import SVC\n",
    "from sklearn.naive_bayes import GaussianNB\n",
    "from sklearn.metrics import accuracy_score\n",
    "from sklearn.tree import DecisionTreeClassifier\n",
    "from sklearn.neighbors import KNeighborsClassifier\n",
    "from sklearn.ensemble import RandomForestClassifier\n",
    "from sklearn.linear_model import LogisticRegression\n",
    "from sklearn.preprocessing import StandardScaler, MinMaxScaler"
   ]
  },
  {
   "cell_type": "code",
   "execution_count": 2,
   "id": "3e36b866",
   "metadata": {},
   "outputs": [],
   "source": [
    "import matplotlib.pyplot as plt\n",
    "import seaborn as sns\n",
    "import matplotlib\n",
    "\n",
    "# Enable inline plotting\n",
    "%matplotlib inline\n",
    "\n",
    "# Set the seaborn style to 'darkgrid'\n",
    "sns.set_style('darkgrid')\n",
    "\n",
    "# Set the font size for plots\n",
    "matplotlib.rcParams['font.size'] = 14\n",
    "\n",
    "# Set the default figure size\n",
    "matplotlib.rcParams['figure.figsize'] = (10, 6)\n",
    "\n",
    "# Set the figure facecolor to transparent\n",
    "matplotlib.rcParams['figure.facecolor'] = '#00000000'\n",
    "\n",
    "#warnings\n",
    "import warnings\n",
    "warnings.filterwarnings(\"ignore\")"
   ]
  },
  {
   "cell_type": "code",
   "execution_count": 3,
   "id": "2353b63d",
   "metadata": {},
   "outputs": [
    {
     "data": {
      "text/plain": [
       "'C:\\\\Users\\\\Lenovo\\\\Documents\\\\Python Scripts\\\\FLIGHT DELAYS DATA'"
      ]
     },
     "execution_count": 3,
     "metadata": {},
     "output_type": "execute_result"
    }
   ],
   "source": [
    "os.getcwd()"
   ]
  },
  {
   "cell_type": "code",
   "execution_count": 4,
   "id": "d7bbb17e",
   "metadata": {},
   "outputs": [
    {
     "data": {
      "text/plain": [
       "['.ipynb_checkpoints',\n",
       " 'AEROPLANE.jpg',\n",
       " 'airport_codes.csv',\n",
       " 'analysis-and-prediction.ipynb',\n",
       " 'archive (2).zip',\n",
       " 'eda-understanding-the-data.ipynb',\n",
       " 'FLIGHT DELAY PREDICTION.ipynb',\n",
       " 'flight-delay-decisiontreeclassifier-with-83-auc.ipynb',\n",
       " 'Jan_2019_ontime.csv',\n",
       " 'Jan_2020_ontime.csv',\n",
       " 'predicting-the-delay-of-flights-auc-0-88 (1).ipynb']"
      ]
     },
     "execution_count": 4,
     "metadata": {},
     "output_type": "execute_result"
    }
   ],
   "source": [
    "os.listdir()"
   ]
  },
  {
   "cell_type": "code",
   "execution_count": 5,
   "id": "fbed2b38",
   "metadata": {},
   "outputs": [],
   "source": [
    "# Reading data from CSV files\n",
    "data1 = pd.read_csv('Jan_2019_ontime.csv')\n",
    "data2 = pd.read_csv('Jan_2020_ontime.csv')"
   ]
  },
  {
   "cell_type": "code",
   "execution_count": 6,
   "id": "783d2a1d",
   "metadata": {},
   "outputs": [],
   "source": [
    "#Creating year indicator.\n",
    "data1['YEAR'] = 2019\n",
    "data2['YEAR'] = 2020"
   ]
  },
  {
   "cell_type": "code",
   "execution_count": 7,
   "id": "6fedc959",
   "metadata": {},
   "outputs": [
    {
     "name": "stdout",
     "output_type": "stream",
     "text": [
      "True\n"
     ]
    }
   ],
   "source": [
    "#Checking if the bases have the same columns\n",
    "print(set(data2.columns) == set(data1.columns))"
   ]
  },
  {
   "cell_type": "code",
   "execution_count": 8,
   "id": "fcd02583",
   "metadata": {},
   "outputs": [],
   "source": [
    "#Generating the unique base\n",
    "flight_df = pd.concat([data1,data2])"
   ]
  },
  {
   "cell_type": "code",
   "execution_count": 9,
   "id": "b5cbf4a6",
   "metadata": {},
   "outputs": [
    {
     "data": {
      "text/html": [
       "<div>\n",
       "<style scoped>\n",
       "    .dataframe tbody tr th:only-of-type {\n",
       "        vertical-align: middle;\n",
       "    }\n",
       "\n",
       "    .dataframe tbody tr th {\n",
       "        vertical-align: top;\n",
       "    }\n",
       "\n",
       "    .dataframe thead th {\n",
       "        text-align: right;\n",
       "    }\n",
       "</style>\n",
       "<table border=\"1\" class=\"dataframe\">\n",
       "  <thead>\n",
       "    <tr style=\"text-align: right;\">\n",
       "      <th></th>\n",
       "      <th>DAY_OF_MONTH</th>\n",
       "      <th>DAY_OF_WEEK</th>\n",
       "      <th>OP_UNIQUE_CARRIER</th>\n",
       "      <th>OP_CARRIER_AIRLINE_ID</th>\n",
       "      <th>OP_CARRIER</th>\n",
       "      <th>TAIL_NUM</th>\n",
       "      <th>OP_CARRIER_FL_NUM</th>\n",
       "      <th>ORIGIN_AIRPORT_ID</th>\n",
       "      <th>ORIGIN_AIRPORT_SEQ_ID</th>\n",
       "      <th>ORIGIN</th>\n",
       "      <th>...</th>\n",
       "      <th>DEP_TIME</th>\n",
       "      <th>DEP_DEL15</th>\n",
       "      <th>DEP_TIME_BLK</th>\n",
       "      <th>ARR_TIME</th>\n",
       "      <th>ARR_DEL15</th>\n",
       "      <th>CANCELLED</th>\n",
       "      <th>DIVERTED</th>\n",
       "      <th>DISTANCE</th>\n",
       "      <th>Unnamed: 21</th>\n",
       "      <th>YEAR</th>\n",
       "    </tr>\n",
       "  </thead>\n",
       "  <tbody>\n",
       "    <tr>\n",
       "      <th>0</th>\n",
       "      <td>1</td>\n",
       "      <td>2</td>\n",
       "      <td>9E</td>\n",
       "      <td>20363</td>\n",
       "      <td>9E</td>\n",
       "      <td>N8688C</td>\n",
       "      <td>3280</td>\n",
       "      <td>11953</td>\n",
       "      <td>1195302</td>\n",
       "      <td>GNV</td>\n",
       "      <td>...</td>\n",
       "      <td>601.0</td>\n",
       "      <td>0.0</td>\n",
       "      <td>0600-0659</td>\n",
       "      <td>722.0</td>\n",
       "      <td>0.0</td>\n",
       "      <td>0.0</td>\n",
       "      <td>0.0</td>\n",
       "      <td>300.0</td>\n",
       "      <td>NaN</td>\n",
       "      <td>2019</td>\n",
       "    </tr>\n",
       "    <tr>\n",
       "      <th>1</th>\n",
       "      <td>1</td>\n",
       "      <td>2</td>\n",
       "      <td>9E</td>\n",
       "      <td>20363</td>\n",
       "      <td>9E</td>\n",
       "      <td>N348PQ</td>\n",
       "      <td>3281</td>\n",
       "      <td>13487</td>\n",
       "      <td>1348702</td>\n",
       "      <td>MSP</td>\n",
       "      <td>...</td>\n",
       "      <td>1359.0</td>\n",
       "      <td>0.0</td>\n",
       "      <td>1400-1459</td>\n",
       "      <td>1633.0</td>\n",
       "      <td>0.0</td>\n",
       "      <td>0.0</td>\n",
       "      <td>0.0</td>\n",
       "      <td>596.0</td>\n",
       "      <td>NaN</td>\n",
       "      <td>2019</td>\n",
       "    </tr>\n",
       "    <tr>\n",
       "      <th>2</th>\n",
       "      <td>1</td>\n",
       "      <td>2</td>\n",
       "      <td>9E</td>\n",
       "      <td>20363</td>\n",
       "      <td>9E</td>\n",
       "      <td>N8896A</td>\n",
       "      <td>3282</td>\n",
       "      <td>11433</td>\n",
       "      <td>1143302</td>\n",
       "      <td>DTW</td>\n",
       "      <td>...</td>\n",
       "      <td>1215.0</td>\n",
       "      <td>0.0</td>\n",
       "      <td>1200-1259</td>\n",
       "      <td>1329.0</td>\n",
       "      <td>0.0</td>\n",
       "      <td>0.0</td>\n",
       "      <td>0.0</td>\n",
       "      <td>229.0</td>\n",
       "      <td>NaN</td>\n",
       "      <td>2019</td>\n",
       "    </tr>\n",
       "    <tr>\n",
       "      <th>3</th>\n",
       "      <td>1</td>\n",
       "      <td>2</td>\n",
       "      <td>9E</td>\n",
       "      <td>20363</td>\n",
       "      <td>9E</td>\n",
       "      <td>N8886A</td>\n",
       "      <td>3283</td>\n",
       "      <td>15249</td>\n",
       "      <td>1524906</td>\n",
       "      <td>TLH</td>\n",
       "      <td>...</td>\n",
       "      <td>1521.0</td>\n",
       "      <td>0.0</td>\n",
       "      <td>1500-1559</td>\n",
       "      <td>1625.0</td>\n",
       "      <td>0.0</td>\n",
       "      <td>0.0</td>\n",
       "      <td>0.0</td>\n",
       "      <td>223.0</td>\n",
       "      <td>NaN</td>\n",
       "      <td>2019</td>\n",
       "    </tr>\n",
       "    <tr>\n",
       "      <th>4</th>\n",
       "      <td>1</td>\n",
       "      <td>2</td>\n",
       "      <td>9E</td>\n",
       "      <td>20363</td>\n",
       "      <td>9E</td>\n",
       "      <td>N8974C</td>\n",
       "      <td>3284</td>\n",
       "      <td>10397</td>\n",
       "      <td>1039707</td>\n",
       "      <td>ATL</td>\n",
       "      <td>...</td>\n",
       "      <td>1847.0</td>\n",
       "      <td>0.0</td>\n",
       "      <td>1900-1959</td>\n",
       "      <td>1940.0</td>\n",
       "      <td>0.0</td>\n",
       "      <td>0.0</td>\n",
       "      <td>0.0</td>\n",
       "      <td>579.0</td>\n",
       "      <td>NaN</td>\n",
       "      <td>2019</td>\n",
       "    </tr>\n",
       "  </tbody>\n",
       "</table>\n",
       "<p>5 rows × 23 columns</p>\n",
       "</div>"
      ],
      "text/plain": [
       "   DAY_OF_MONTH  DAY_OF_WEEK OP_UNIQUE_CARRIER  OP_CARRIER_AIRLINE_ID  \\\n",
       "0             1            2                9E                  20363   \n",
       "1             1            2                9E                  20363   \n",
       "2             1            2                9E                  20363   \n",
       "3             1            2                9E                  20363   \n",
       "4             1            2                9E                  20363   \n",
       "\n",
       "  OP_CARRIER TAIL_NUM  OP_CARRIER_FL_NUM  ORIGIN_AIRPORT_ID  \\\n",
       "0         9E   N8688C               3280              11953   \n",
       "1         9E   N348PQ               3281              13487   \n",
       "2         9E   N8896A               3282              11433   \n",
       "3         9E   N8886A               3283              15249   \n",
       "4         9E   N8974C               3284              10397   \n",
       "\n",
       "   ORIGIN_AIRPORT_SEQ_ID ORIGIN  ...  DEP_TIME  DEP_DEL15 DEP_TIME_BLK  \\\n",
       "0                1195302    GNV  ...     601.0        0.0    0600-0659   \n",
       "1                1348702    MSP  ...    1359.0        0.0    1400-1459   \n",
       "2                1143302    DTW  ...    1215.0        0.0    1200-1259   \n",
       "3                1524906    TLH  ...    1521.0        0.0    1500-1559   \n",
       "4                1039707    ATL  ...    1847.0        0.0    1900-1959   \n",
       "\n",
       "   ARR_TIME  ARR_DEL15 CANCELLED  DIVERTED  DISTANCE  Unnamed: 21  YEAR  \n",
       "0     722.0        0.0       0.0       0.0     300.0          NaN  2019  \n",
       "1    1633.0        0.0       0.0       0.0     596.0          NaN  2019  \n",
       "2    1329.0        0.0       0.0       0.0     229.0          NaN  2019  \n",
       "3    1625.0        0.0       0.0       0.0     223.0          NaN  2019  \n",
       "4    1940.0        0.0       0.0       0.0     579.0          NaN  2019  \n",
       "\n",
       "[5 rows x 23 columns]"
      ]
     },
     "execution_count": 9,
     "metadata": {},
     "output_type": "execute_result"
    }
   ],
   "source": [
    "flight_df.head()"
   ]
  },
  {
   "cell_type": "code",
   "execution_count": 10,
   "id": "ae9c59b8",
   "metadata": {},
   "outputs": [
    {
     "name": "stdout",
     "output_type": "stream",
     "text": [
      "<class 'pandas.core.frame.DataFrame'>\n",
      "Int64Index: 1191331 entries, 0 to 607345\n",
      "Data columns (total 23 columns):\n",
      " #   Column                 Non-Null Count    Dtype  \n",
      "---  ------                 --------------    -----  \n",
      " 0   DAY_OF_MONTH           1191331 non-null  int64  \n",
      " 1   DAY_OF_WEEK            1191331 non-null  int64  \n",
      " 2   OP_UNIQUE_CARRIER      1191331 non-null  object \n",
      " 3   OP_CARRIER_AIRLINE_ID  1191331 non-null  int64  \n",
      " 4   OP_CARRIER             1191331 non-null  object \n",
      " 5   TAIL_NUM               1188090 non-null  object \n",
      " 6   OP_CARRIER_FL_NUM      1191331 non-null  int64  \n",
      " 7   ORIGIN_AIRPORT_ID      1191331 non-null  int64  \n",
      " 8   ORIGIN_AIRPORT_SEQ_ID  1191331 non-null  int64  \n",
      " 9   ORIGIN                 1191331 non-null  object \n",
      " 10  DEST_AIRPORT_ID        1191331 non-null  int64  \n",
      " 11  DEST_AIRPORT_SEQ_ID    1191331 non-null  int64  \n",
      " 12  DEST                   1191331 non-null  object \n",
      " 13  DEP_TIME               1168315 non-null  float64\n",
      " 14  DEP_DEL15              1168277 non-null  float64\n",
      " 15  DEP_TIME_BLK           1191331 non-null  object \n",
      " 16  ARR_TIME               1167195 non-null  float64\n",
      " 17  ARR_DEL15              1165231 non-null  float64\n",
      " 18  CANCELLED              1191331 non-null  float64\n",
      " 19  DIVERTED               1191331 non-null  float64\n",
      " 20  DISTANCE               1191331 non-null  float64\n",
      " 21  Unnamed: 21            0 non-null        float64\n",
      " 22  YEAR                   1191331 non-null  int64  \n",
      "dtypes: float64(8), int64(9), object(6)\n",
      "memory usage: 218.1+ MB\n"
     ]
    }
   ],
   "source": [
    "# Display information about the flight_df DataFrame\n",
    "flight_df.info()"
   ]
  },
  {
   "cell_type": "code",
   "execution_count": 11,
   "id": "29e0edb6",
   "metadata": {},
   "outputs": [
    {
     "data": {
      "text/plain": [
       "Unnamed: 21              1191331\n",
       "ARR_DEL15                  26100\n",
       "ARR_TIME                   24136\n",
       "DEP_DEL15                  23054\n",
       "DEP_TIME                   23016\n",
       "TAIL_NUM                    3241\n",
       "DAY_OF_MONTH                   0\n",
       "DEST                           0\n",
       "DISTANCE                       0\n",
       "DIVERTED                       0\n",
       "CANCELLED                      0\n",
       "DEP_TIME_BLK                   0\n",
       "DEST_AIRPORT_SEQ_ID            0\n",
       "DAY_OF_WEEK                    0\n",
       "DEST_AIRPORT_ID                0\n",
       "ORIGIN                         0\n",
       "ORIGIN_AIRPORT_SEQ_ID          0\n",
       "ORIGIN_AIRPORT_ID              0\n",
       "OP_CARRIER_FL_NUM              0\n",
       "OP_CARRIER                     0\n",
       "OP_CARRIER_AIRLINE_ID          0\n",
       "OP_UNIQUE_CARRIER              0\n",
       "YEAR                           0\n",
       "dtype: int64"
      ]
     },
     "execution_count": 11,
     "metadata": {},
     "output_type": "execute_result"
    }
   ],
   "source": [
    "# The number of missing values in each column\n",
    "missing_values = flight_df.isna().sum().sort_values(ascending=False)\n",
    "missing_values"
   ]
  },
  {
   "cell_type": "code",
   "execution_count": 12,
   "id": "4cc10caf",
   "metadata": {},
   "outputs": [
    {
     "data": {
      "text/plain": [
       "0"
      ]
     },
     "execution_count": 12,
     "metadata": {},
     "output_type": "execute_result"
    }
   ],
   "source": [
    "# The number of duplicate rows in the flight_df DataFrame\n",
    "duplicate_count = flight_df.duplicated().sum()\n",
    "duplicate_count"
   ]
  },
  {
   "cell_type": "code",
   "execution_count": 13,
   "id": "0637721c",
   "metadata": {},
   "outputs": [],
   "source": [
    "# The count of unique values for each column in the flight_df DataFrame\n",
    "unique_value_counts = flight_df.nunique().sort_values(ascending=False)"
   ]
  },
  {
   "cell_type": "markdown",
   "id": "331a2fbb",
   "metadata": {},
   "source": [
    "### DATA CLEANING"
   ]
  },
  {
   "cell_type": "code",
   "execution_count": 14,
   "id": "249f5443",
   "metadata": {},
   "outputs": [],
   "source": [
    "# Removing unnecessary columns from flight_df\n",
    "columns_to_drop = [\n",
    "    'OP_CARRIER_FL_NUM',\n",
    "    'OP_CARRIER_AIRLINE_ID',\n",
    "    'OP_CARRIER',\n",
    "    'TAIL_NUM',\n",
    "    'ORIGIN_AIRPORT_ID',\n",
    "    'ORIGIN_AIRPORT_SEQ_ID',\n",
    "    'DEST_AIRPORT_ID',\n",
    "    'DEST_AIRPORT_SEQ_ID',\n",
    "    'CANCELLED',\n",
    "    'DIVERTED',\n",
    "    'Unnamed: 21'\n",
    "]\n",
    "flight_df = flight_df.drop(columns=columns_to_drop, axis=1)\n",
    "\n",
    "# Setting 'YEAR' as the index for flight_df\n",
    "flight_df.set_index('YEAR', inplace=True)\n"
   ]
  },
  {
   "cell_type": "code",
   "execution_count": 15,
   "id": "d16eaf31",
   "metadata": {},
   "outputs": [],
   "source": [
    "def fill_missing_values_with_median(flight_df):\n",
    "    \"\"\"\n",
    "    This function fills missing values in a DataFrame with the median value of each column.\n",
    "\n",
    "    Args:\n",
    "        flight_df (pd.DataFrame): The DataFrame containing flight data.\n",
    "\n",
    "    Returns:\n",
    "        pd.DataFrame: The DataFrame with missing values filled with median values.\n",
    "    \"\"\"\n",
    "    # Fill missing values with the median of each column\n",
    "    flight_df = flight_df.fillna(flight_df.median())\n",
    "    \n",
    "    return flight_df"
   ]
  },
  {
   "cell_type": "code",
   "execution_count": 16,
   "id": "4c1942d4",
   "metadata": {},
   "outputs": [
    {
     "data": {
      "text/plain": [
       "DAY_OF_MONTH         0\n",
       "DAY_OF_WEEK          0\n",
       "OP_UNIQUE_CARRIER    0\n",
       "ORIGIN               0\n",
       "DEST                 0\n",
       "DEP_TIME             0\n",
       "DEP_DEL15            0\n",
       "DEP_TIME_BLK         0\n",
       "ARR_TIME             0\n",
       "ARR_DEL15            0\n",
       "DISTANCE             0\n",
       "dtype: int64"
      ]
     },
     "execution_count": 16,
     "metadata": {},
     "output_type": "execute_result"
    }
   ],
   "source": [
    "flight_df = fill_missing_values_with_median(flight_df)\n",
    "flight_df.isna().sum()"
   ]
  },
  {
   "cell_type": "markdown",
   "id": "3a1146fb",
   "metadata": {},
   "source": [
    "### Data Exploration and Visualization"
   ]
  },
  {
   "cell_type": "code",
   "execution_count": 17,
   "id": "fff82f91",
   "metadata": {},
   "outputs": [
    {
     "data": {
      "text/plain": [
       "187507"
      ]
     },
     "execution_count": 17,
     "metadata": {},
     "output_type": "execute_result"
    }
   ],
   "source": [
    "# The number of flights that arrived late.\n",
    "def count_late_arrivals(flight_df):\n",
    "    \"\"\"\n",
    "    Count the number of flights that arrived late.\n",
    "\n",
    "    Args:\n",
    "        flight_df (pd.DataFrame): DataFrame containing flight data with 'ARR_DEL15' column.\n",
    "\n",
    "    Returns:\n",
    "        int: Number of flights that arrived late.\n",
    "    \"\"\"\n",
    "    # Filter the DataFrame for late arrivals (ARR_DEL15 == 1) and calculate the sum.\n",
    "    arr_late = (flight_df['ARR_DEL15'] == 1).sum()\n",
    "    return arr_late\n",
    "\n",
    "arr_late = count_late_arrivals(flight_df)\n",
    "arr_late"
   ]
  },
  {
   "cell_type": "code",
   "execution_count": 18,
   "id": "8baa8446",
   "metadata": {},
   "outputs": [
    {
     "data": {
      "text/plain": [
       "15.739286562676536"
      ]
     },
     "execution_count": 18,
     "metadata": {},
     "output_type": "execute_result"
    }
   ],
   "source": [
    "# The number of flights that arrived late as a percentage of the total flights.\n",
    "\n",
    "def calculate_late_percentage(arr_late: int, flight_df: pd.DataFrame) -> float:\n",
    "    \"\"\"\n",
    "    Calculate the percentage of flights that arrived late.\n",
    "\n",
    "    Args:\n",
    "        arr_late (int): The number of flights that arrived late.\n",
    "        flight_df (pd.DataFrame): DataFrame containing flight data.\n",
    "\n",
    "    Returns:\n",
    "        float: The late arrival percentage.\n",
    "    \"\"\"\n",
    "    total_flights = len(flight_df)\n",
    "    late_percentage = (arr_late / total_flights) * 100\n",
    "    return late_percentage\n",
    "\n",
    "late_percentage = calculate_late_percentage(arr_late, flight_df)\n",
    "late_percentage"
   ]
  },
  {
   "cell_type": "code",
   "execution_count": 19,
   "id": "14cde417",
   "metadata": {},
   "outputs": [
    {
     "data": {
      "image/png": "[encoded data removed]",
      "text/plain": [
       "<Figure size 1000x600 with 1 Axes>"
      ]
     },
     "metadata": {},
     "output_type": "display_data"
    }
   ],
   "source": [
    "# A pie chart showing the number of flights that delayed to the number of flights that didn't.\n",
    "\n",
    "# Calculating the number of flights that arrived late using my function\n",
    "arr_late = (flight_df.ARR_DEL15 == 1).sum()\n",
    "\n",
    "# Number of flights that arrived on time\n",
    "arr_early = (flight_df.ARR_DEL15 == 0).sum()\n",
    "\n",
    "# Labels and sizes for the pie chart\n",
    "labels = ['Delayed', 'On Time']\n",
    "sizes = [arr_late, arr_early]\n",
    "colors = ['red', 'indigo']\n",
    "\n",
    "# Creating the pie chart\n",
    "plt.pie(sizes, labels=labels, colors=colors, autopct='%1.1f%%', startangle=140, shadow=True)\n",
    "plt.axis('equal')\n",
    "plt.title('Percentage of Flights Delayed vs On Time')\n",
    "plt.show()"
   ]
  },
  {
   "cell_type": "code",
   "execution_count": 20,
   "id": "6cd7b822",
   "metadata": {},
   "outputs": [
    {
     "data": {
      "text/plain": [
       "4"
      ]
     },
     "execution_count": 20,
     "metadata": {},
     "output_type": "execute_result"
    }
   ],
   "source": [
    "# Which day of the week had the highest number of delayed flights?\n",
    "\n",
    "delayed_flights = flight_df[flight_df.ARR_DEL15 == 1]\n",
    "\n",
    "day_of_week_counts = delayed_flights.DAY_OF_WEEK.value_counts()\n",
    "\n",
    "max_delayed_day = day_of_week_counts.idxmax() # The day of the week with the highest count\n",
    "max_delayed_day"
   ]
  },
  {
   "cell_type": "code",
   "execution_count": 21,
   "id": "3ba7092f",
   "metadata": {},
   "outputs": [
    {
     "data": {
      "image/png": "[encoded data removed]",
      "text/plain": [
       "<Figure size 1000x600 with 1 Axes>"
      ]
     },
     "metadata": {
      "needs_background": "light"
     },
     "output_type": "display_data"
    }
   ],
   "source": [
    "# A visualization of the day of the week with the highest number of delayed flights\n",
    "\n",
    "# Sort the data by the day of the week in the correct order (Monday to Sunday)\n",
    "sorted_days = [1, 2, 3, 4, 5, 6, 7]\n",
    "day_of_week_counts = day_of_week_counts.reindex(sorted_days)\n",
    "\n",
    "plt.figure(figsize=(10, 6))\n",
    "plt.bar(day_of_week_counts.index, day_of_week_counts.values, color='skyblue')\n",
    "plt.xlabel('Day of the Week')\n",
    "plt.ylabel('Number of Delayed Flights')\n",
    "plt.title('Number of Delayed Flights by Day of the Week')\n",
    "plt.xticks(day_of_week_counts.index, ['Mon', 'Tue', 'Wed', 'Thur', 'Fri', 'Sat', 'Sun'])\n",
    "plt.tight_layout()\n",
    "\n",
    "# Annotate the day with the highest count\n",
    "max_count = day_of_week_counts[max_delayed_day]\n",
    "plt.annotate(f'Highest: {max_count}', (max_delayed_day, max_count), xytext=(0, 5),\n",
    "             textcoords='offset points', ha='center', color='red')\n",
    "\n",
    "# Iterate through the bars and set the color for the highest count bar to red\n",
    "bars = plt.bar(day_of_week_counts.index, day_of_week_counts.values, color='indigo')\n",
    "for i, bar in enumerate(bars):\n",
    "    if day_of_week_counts.index[i] == max_delayed_day:\n",
    "        bar.set_color('red')\n",
    "\n",
    "plt.show()"
   ]
  },
  {
   "cell_type": "markdown",
   "id": "9d4ed6e0",
   "metadata": {},
   "source": [
    "Thursday had the highest number of delayed flights."
   ]
  },
  {
   "cell_type": "code",
   "execution_count": 22,
   "id": "2664290b",
   "metadata": {},
   "outputs": [
    {
     "data": {
      "image/png": "[encoded data removed]",
      "text/plain": [
       "<Figure size 1000x800 with 2 Axes>"
      ]
     },
     "metadata": {
      "needs_background": "light"
     },
     "output_type": "display_data"
    }
   ],
   "source": [
    "# Which day of the month had the highest number of delayed flights and is there any correlation between the day of the month and the delay of flights?\n",
    "\n",
    "day_of_month_counts1 = delayed_flights.DAY_OF_MONTH.value_counts()\n",
    "day_of_month_counts = day_of_month_counts1.sort_index(ascending=True)\n",
    "max_delayed_day_month = day_of_month_counts.idxmax()\n",
    "\n",
    "# Creating a figure with two subplots (bar chart and line graph)\n",
    "fig, (ax1, ax2) = plt.subplots(2, 1, figsize=(10, 8), sharex=True)\n",
    "\n",
    "# Bar chart for the number of delayed flights by day of the month\n",
    "ax1.bar(day_of_month_counts.index, day_of_month_counts.values, color='indigo')\n",
    "ax1.set_ylabel('Number of Delayed Flights')\n",
    "ax1.set_title('Number of Delayed Flights by Day of the Month')\n",
    "\n",
    "# Highlighting the day with the highest count in red\n",
    "ax1.bar(max_delayed_day_month, day_of_month_counts[max_delayed_day_month], color='red')\n",
    "\n",
    "# Line graph to show the trend of delayed flights by day of the month\n",
    "ax2.plot(day_of_month_counts.index, day_of_month_counts.values, marker='o', linestyle='-',\n",
    "         color='green', label='Delayed Flights')\n",
    "ax2.set_xlabel('Day of the Month')\n",
    "ax2.set_ylabel('Number of Delayed Flights')\n",
    "ax2.set_title('Trend of Delayed Flights by Day of the Month')\n",
    "\n",
    "# Highlighting the day with the highest count with a red dot on the line graph\n",
    "max_count = day_of_month_counts[max_delayed_day_month]\n",
    "ax2.plot(max_delayed_day_month, max_count, marker='o', markersize=8, color='red', label='Highest')\n",
    "\n",
    "# Adding a legend to the line graph\n",
    "ax2.legend()\n",
    "\n",
    "plt.tight_layout()\n",
    "plt.show()"
   ]
  },
  {
   "cell_type": "markdown",
   "id": "4bbe0dff",
   "metadata": {},
   "source": [
    "The 23rd day of the month had the highest number of delayed flights. There seems to be some degree of correlation between the day of the month and the number of delays--early and late in the month."
   ]
  },
  {
   "cell_type": "code",
   "execution_count": 23,
   "id": "d2e94ce0",
   "metadata": {},
   "outputs": [
    {
     "name": "stdout",
     "output_type": "stream",
     "text": [
      "ARR_DEL15             0.0    1.0\n",
      "Distance_Category               \n",
      "0-500              384381  68848\n",
      "501-1000           347288  65773\n",
      "1001-1500          153952  30355\n",
      "1501-2000           61466  11408\n",
      "2001-2500           38709   7119\n",
      "2501-3000           16186   3700\n",
      "3001-3500             456     56\n",
      "3501-4000             763    110\n",
      "4001+                 623    138\n"
     ]
    }
   ],
   "source": [
    "# Creating bins for the distance variable.\n",
    "# Defining the bins (distance intervals)\n",
    "bins = [0, 500, 1000, 1500, 2000, 2500, 3000, 3500, 4000, float('inf')]\n",
    "\n",
    "# Defining labels for the bins\n",
    "labels = ['0-500', '501-1000', '1001-1500', '1501-2000', '2001-2500', '2501-3000', '3001-3500', '3501-4000', '4001+']\n",
    "\n",
    "# Creating a new column in the DataFrame to categorize flights based on DISTANCE\n",
    "flight_df['Distance_Category'] = pd.cut(flight_df['DISTANCE'], bins=bins, labels=labels)\n",
    "\n",
    "# Counting the number of delayed (ARR_DEL15 = 1) and on-time (ARR_DEL15 = 0) flights in each category\n",
    "category_counts = flight_df.groupby(['Distance_Category', 'ARR_DEL15'])['DISTANCE'].count().unstack().fillna(0)\n",
    "\n",
    "# Print the results\n",
    "print(category_counts)\n"
   ]
  },
  {
   "cell_type": "code",
   "execution_count": 24,
   "id": "8f63d5df",
   "metadata": {},
   "outputs": [
    {
     "data": {
      "image/png": "[encoded data removed]",
      "text/plain": [
       "<Figure size 1000x600 with 1 Axes>"
      ]
     },
     "metadata": {
      "needs_background": "light"
     },
     "output_type": "display_data"
    }
   ],
   "source": [
    "# A visualization showing the relationship between Distance and Delayed flights.\n",
    "# Separating flights into delayed and on-time categories\n",
    "delayed_flights = flight_df[flight_df['ARR_DEL15'] == 1]\n",
    "on_time_flights = flight_df[flight_df['ARR_DEL15'] == 0]\n",
    "\n",
    "# Creating histograms for both delayed and on-time flights\n",
    "plt.hist(delayed_flights['DISTANCE'], bins=20, alpha=0.5, label='Delayed Flights', color='red')\n",
    "plt.hist(on_time_flights['DISTANCE'], bins=20, alpha=0.5, label='On-Time Flights', color='indigo')\n",
    "\n",
    "plt.xlabel('Distance')\n",
    "plt.ylabel('Number of Flights')\n",
    "plt.title('Distribution of Delayed and On-Time Flights based on Distance')\n",
    "plt.legend(loc='upper right')\n",
    "plt.grid(True)\n",
    "plt.show()\n"
   ]
  },
  {
   "cell_type": "markdown",
   "id": "3d007b4b",
   "metadata": {},
   "source": [
    "The number of delayed flights decreases as the distance increases."
   ]
  },
  {
   "cell_type": "code",
   "execution_count": 25,
   "id": "9bfe8470",
   "metadata": {},
   "outputs": [
    {
     "data": {
      "text/html": [
       "<div>\n",
       "<style scoped>\n",
       "    .dataframe tbody tr th:only-of-type {\n",
       "        vertical-align: middle;\n",
       "    }\n",
       "\n",
       "    .dataframe tbody tr th {\n",
       "        vertical-align: top;\n",
       "    }\n",
       "\n",
       "    .dataframe thead th {\n",
       "        text-align: right;\n",
       "    }\n",
       "</style>\n",
       "<table border=\"1\" class=\"dataframe\">\n",
       "  <thead>\n",
       "    <tr style=\"text-align: right;\">\n",
       "      <th></th>\n",
       "      <th>On-Time Flights</th>\n",
       "      <th>Delayed Flights</th>\n",
       "      <th>Total Flights</th>\n",
       "      <th>% On-Time</th>\n",
       "      <th>% Delayed</th>\n",
       "    </tr>\n",
       "    <tr>\n",
       "      <th>ORIGIN</th>\n",
       "      <th></th>\n",
       "      <th></th>\n",
       "      <th></th>\n",
       "      <th></th>\n",
       "      <th></th>\n",
       "    </tr>\n",
       "  </thead>\n",
       "  <tbody>\n",
       "    <tr>\n",
       "      <th>ABE</th>\n",
       "      <td>577</td>\n",
       "      <td>125</td>\n",
       "      <td>702</td>\n",
       "      <td>82.193732</td>\n",
       "      <td>17.806268</td>\n",
       "    </tr>\n",
       "    <tr>\n",
       "      <th>ABI</th>\n",
       "      <td>260</td>\n",
       "      <td>78</td>\n",
       "      <td>338</td>\n",
       "      <td>76.923077</td>\n",
       "      <td>23.076923</td>\n",
       "    </tr>\n",
       "    <tr>\n",
       "      <th>ABQ</th>\n",
       "      <td>3177</td>\n",
       "      <td>399</td>\n",
       "      <td>3576</td>\n",
       "      <td>88.842282</td>\n",
       "      <td>11.157718</td>\n",
       "    </tr>\n",
       "    <tr>\n",
       "      <th>ABR</th>\n",
       "      <td>103</td>\n",
       "      <td>21</td>\n",
       "      <td>124</td>\n",
       "      <td>83.064516</td>\n",
       "      <td>16.935484</td>\n",
       "    </tr>\n",
       "    <tr>\n",
       "      <th>ABY</th>\n",
       "      <td>156</td>\n",
       "      <td>12</td>\n",
       "      <td>168</td>\n",
       "      <td>92.857143</td>\n",
       "      <td>7.142857</td>\n",
       "    </tr>\n",
       "    <tr>\n",
       "      <th>...</th>\n",
       "      <td>...</td>\n",
       "      <td>...</td>\n",
       "      <td>...</td>\n",
       "      <td>...</td>\n",
       "      <td>...</td>\n",
       "    </tr>\n",
       "    <tr>\n",
       "      <th>WRG</th>\n",
       "      <td>99</td>\n",
       "      <td>25</td>\n",
       "      <td>124</td>\n",
       "      <td>79.838710</td>\n",
       "      <td>20.161290</td>\n",
       "    </tr>\n",
       "    <tr>\n",
       "      <th>XNA</th>\n",
       "      <td>1817</td>\n",
       "      <td>369</td>\n",
       "      <td>2186</td>\n",
       "      <td>83.119854</td>\n",
       "      <td>16.880146</td>\n",
       "    </tr>\n",
       "    <tr>\n",
       "      <th>XWA</th>\n",
       "      <td>51</td>\n",
       "      <td>17</td>\n",
       "      <td>68</td>\n",
       "      <td>75.000000</td>\n",
       "      <td>25.000000</td>\n",
       "    </tr>\n",
       "    <tr>\n",
       "      <th>YAK</th>\n",
       "      <td>102</td>\n",
       "      <td>18</td>\n",
       "      <td>120</td>\n",
       "      <td>85.000000</td>\n",
       "      <td>15.000000</td>\n",
       "    </tr>\n",
       "    <tr>\n",
       "      <th>YUM</th>\n",
       "      <td>258</td>\n",
       "      <td>43</td>\n",
       "      <td>301</td>\n",
       "      <td>85.714286</td>\n",
       "      <td>14.285714</td>\n",
       "    </tr>\n",
       "  </tbody>\n",
       "</table>\n",
       "<p>353 rows × 5 columns</p>\n",
       "</div>"
      ],
      "text/plain": [
       "        On-Time Flights  Delayed Flights  Total Flights  % On-Time  % Delayed\n",
       "ORIGIN                                                                       \n",
       "ABE                 577              125            702  82.193732  17.806268\n",
       "ABI                 260               78            338  76.923077  23.076923\n",
       "ABQ                3177              399           3576  88.842282  11.157718\n",
       "ABR                 103               21            124  83.064516  16.935484\n",
       "ABY                 156               12            168  92.857143   7.142857\n",
       "...                 ...              ...            ...        ...        ...\n",
       "WRG                  99               25            124  79.838710  20.161290\n",
       "XNA                1817              369           2186  83.119854  16.880146\n",
       "XWA                  51               17             68  75.000000  25.000000\n",
       "YAK                 102               18            120  85.000000  15.000000\n",
       "YUM                 258               43            301  85.714286  14.285714\n",
       "\n",
       "[353 rows x 5 columns]"
      ]
     },
     "execution_count": 25,
     "metadata": {},
     "output_type": "execute_result"
    }
   ],
   "source": [
    "# Finding the relationship between the airport origin and the delayed flights.\n",
    "# Grouping the data by 'ORIGIN' and calculate counts and percentages of delayed and on-time flights\n",
    "\n",
    "origin_delay_stats = flight_df.groupby('ORIGIN')['ARR_DEL15'].value_counts().unstack(fill_value=0)\n",
    "origin_delay_stats.columns = ['On-Time Flights', 'Delayed Flights']\n",
    "origin_delay_stats['Total Flights'] = origin_delay_stats['On-Time Flights'] + origin_delay_stats['Delayed Flights']\n",
    "origin_delay_stats['% On-Time'] = (origin_delay_stats['On-Time Flights'] / origin_delay_stats['Total Flights']) * 100\n",
    "origin_delay_stats['% Delayed'] = 100 - origin_delay_stats['% On-Time']\n",
    "\n",
    "# Display the table\n",
    "origin_delay_stats\n"
   ]
  },
  {
   "cell_type": "code",
   "execution_count": 26,
   "id": "af71a9ee",
   "metadata": {},
   "outputs": [
    {
     "name": "stdout",
     "output_type": "stream",
     "text": [
      "airport with the highest number of delayed flights: ORD\n",
      "Number of delayed flights in that airport: 12342\n",
      "\n",
      "airport with the highest number of on-time flights: ATL\n",
      "Number of on-time flights in that airport: 56074\n"
     ]
    }
   ],
   "source": [
    "# Finding the airport with the highest number of delayed flights\n",
    "\n",
    "airport_with_highest_delayed_flights = origin_delay_stats['Delayed Flights'].idxmax()\n",
    "\n",
    "# Finding the country with the highest number of on-time flights (vice versa)\n",
    "\n",
    "airport_with_highest_on_time_flights = origin_delay_stats['On-Time Flights'].idxmax()\n",
    "\n",
    "print(\"airport with the highest number of delayed flights:\", airport_with_highest_delayed_flights)\n",
    "print(\"Number of delayed flights in that airport:\", origin_delay_stats['Delayed Flights'].max())\n",
    "\n",
    "print(\"\\nairport with the highest number of on-time flights:\", airport_with_highest_on_time_flights)\n",
    "print(\"Number of on-time flights in that airport:\", origin_delay_stats['On-Time Flights'].max())\n"
   ]
  },
  {
   "attachments": {},
   "cell_type": "markdown",
   "id": "05da2ed2",
   "metadata": {},
   "source": [
    "> - Chicago O'Hare International Airport == ORD\n",
    "> - Hartsfield Jackson Atlanta International Airport == ATL\n"
   ]
  },
  {
   "cell_type": "code",
   "execution_count": 27,
   "id": "543c9aa1",
   "metadata": {},
   "outputs": [
    {
     "data": {
      "text/html": [
       "<div>\n",
       "<style scoped>\n",
       "    .dataframe tbody tr th:only-of-type {\n",
       "        vertical-align: middle;\n",
       "    }\n",
       "\n",
       "    .dataframe tbody tr th {\n",
       "        vertical-align: top;\n",
       "    }\n",
       "\n",
       "    .dataframe thead th {\n",
       "        text-align: right;\n",
       "    }\n",
       "</style>\n",
       "<table border=\"1\" class=\"dataframe\">\n",
       "  <thead>\n",
       "    <tr style=\"text-align: right;\">\n",
       "      <th></th>\n",
       "      <th>Delay_Count</th>\n",
       "      <th>Total_Count</th>\n",
       "      <th>Percentage_Delay</th>\n",
       "    </tr>\n",
       "    <tr>\n",
       "      <th>DEP_TIME_BLK</th>\n",
       "      <th></th>\n",
       "      <th></th>\n",
       "      <th></th>\n",
       "    </tr>\n",
       "  </thead>\n",
       "  <tbody>\n",
       "    <tr>\n",
       "      <th>0001-0559</th>\n",
       "      <td>3279</td>\n",
       "      <td>32187</td>\n",
       "      <td>10.187343</td>\n",
       "    </tr>\n",
       "    <tr>\n",
       "      <th>0600-0659</th>\n",
       "      <td>8334</td>\n",
       "      <td>86246</td>\n",
       "      <td>9.663057</td>\n",
       "    </tr>\n",
       "    <tr>\n",
       "      <th>0700-0759</th>\n",
       "      <td>8938</td>\n",
       "      <td>79248</td>\n",
       "      <td>11.278518</td>\n",
       "    </tr>\n",
       "    <tr>\n",
       "      <th>0800-0859</th>\n",
       "      <td>10060</td>\n",
       "      <td>78537</td>\n",
       "      <td>12.809249</td>\n",
       "    </tr>\n",
       "    <tr>\n",
       "      <th>0900-0959</th>\n",
       "      <td>9375</td>\n",
       "      <td>71095</td>\n",
       "      <td>13.186581</td>\n",
       "    </tr>\n",
       "    <tr>\n",
       "      <th>1000-1059</th>\n",
       "      <td>10708</td>\n",
       "      <td>71880</td>\n",
       "      <td>14.897051</td>\n",
       "    </tr>\n",
       "    <tr>\n",
       "      <th>1100-1159</th>\n",
       "      <td>11181</td>\n",
       "      <td>74866</td>\n",
       "      <td>14.934683</td>\n",
       "    </tr>\n",
       "    <tr>\n",
       "      <th>1200-1259</th>\n",
       "      <td>11761</td>\n",
       "      <td>75021</td>\n",
       "      <td>15.676944</td>\n",
       "    </tr>\n",
       "    <tr>\n",
       "      <th>1300-1359</th>\n",
       "      <td>11101</td>\n",
       "      <td>67981</td>\n",
       "      <td>16.329563</td>\n",
       "    </tr>\n",
       "    <tr>\n",
       "      <th>1400-1459</th>\n",
       "      <td>12618</td>\n",
       "      <td>71720</td>\n",
       "      <td>17.593419</td>\n",
       "    </tr>\n",
       "    <tr>\n",
       "      <th>1500-1559</th>\n",
       "      <td>12760</td>\n",
       "      <td>72100</td>\n",
       "      <td>17.697642</td>\n",
       "    </tr>\n",
       "    <tr>\n",
       "      <th>1600-1659</th>\n",
       "      <td>13292</td>\n",
       "      <td>71431</td>\n",
       "      <td>18.608167</td>\n",
       "    </tr>\n",
       "    <tr>\n",
       "      <th>1700-1759</th>\n",
       "      <td>14875</td>\n",
       "      <td>77042</td>\n",
       "      <td>19.307650</td>\n",
       "    </tr>\n",
       "    <tr>\n",
       "      <th>1800-1859</th>\n",
       "      <td>14020</td>\n",
       "      <td>69817</td>\n",
       "      <td>20.081069</td>\n",
       "    </tr>\n",
       "    <tr>\n",
       "      <th>1900-1959</th>\n",
       "      <td>12640</td>\n",
       "      <td>64882</td>\n",
       "      <td>19.481520</td>\n",
       "    </tr>\n",
       "    <tr>\n",
       "      <th>2000-2059</th>\n",
       "      <td>10682</td>\n",
       "      <td>55367</td>\n",
       "      <td>19.293081</td>\n",
       "    </tr>\n",
       "    <tr>\n",
       "      <th>2100-2159</th>\n",
       "      <td>6438</td>\n",
       "      <td>36794</td>\n",
       "      <td>17.497418</td>\n",
       "    </tr>\n",
       "    <tr>\n",
       "      <th>2200-2259</th>\n",
       "      <td>4291</td>\n",
       "      <td>27254</td>\n",
       "      <td>15.744478</td>\n",
       "    </tr>\n",
       "    <tr>\n",
       "      <th>2300-2359</th>\n",
       "      <td>1154</td>\n",
       "      <td>7863</td>\n",
       "      <td>14.676332</td>\n",
       "    </tr>\n",
       "  </tbody>\n",
       "</table>\n",
       "</div>"
      ],
      "text/plain": [
       "              Delay_Count  Total_Count  Percentage_Delay\n",
       "DEP_TIME_BLK                                            \n",
       "0001-0559            3279        32187         10.187343\n",
       "0600-0659            8334        86246          9.663057\n",
       "0700-0759            8938        79248         11.278518\n",
       "0800-0859           10060        78537         12.809249\n",
       "0900-0959            9375        71095         13.186581\n",
       "1000-1059           10708        71880         14.897051\n",
       "1100-1159           11181        74866         14.934683\n",
       "1200-1259           11761        75021         15.676944\n",
       "1300-1359           11101        67981         16.329563\n",
       "1400-1459           12618        71720         17.593419\n",
       "1500-1559           12760        72100         17.697642\n",
       "1600-1659           13292        71431         18.608167\n",
       "1700-1759           14875        77042         19.307650\n",
       "1800-1859           14020        69817         20.081069\n",
       "1900-1959           12640        64882         19.481520\n",
       "2000-2059           10682        55367         19.293081\n",
       "2100-2159            6438        36794         17.497418\n",
       "2200-2259            4291        27254         15.744478\n",
       "2300-2359            1154         7863         14.676332"
      ]
     },
     "execution_count": 27,
     "metadata": {},
     "output_type": "execute_result"
    }
   ],
   "source": [
    "# Concentration of delays due to 'DEP_TIME_BLK'\n",
    "\n",
    "# Calculate the count of delays (ARR_DEL15 = 1) for each time block\n",
    "delay_counts = flight_df[flight_df['ARR_DEL15'] == 1].groupby('DEP_TIME_BLK')['ARR_DEL15'].count()\n",
    "\n",
    "# Calculate the total count of flights for each time block\n",
    "total_counts = flight_df.groupby('DEP_TIME_BLK')['ARR_DEL15'].count()\n",
    "\n",
    "# Calculate the percentage of delays for each time block\n",
    "percentage_delays = (delay_counts / total_counts) * 100\n",
    "\n",
    "# Create a DataFrame to display the results\n",
    "concentration_of_delays = pd.DataFrame({'Delay_Count': delay_counts, 'Total_Count': total_counts, 'Percentage_Delay': percentage_delays})\n",
    "\n",
    "concentration_of_delays\n"
   ]
  },
  {
   "cell_type": "markdown",
   "id": "27c22c0d",
   "metadata": {},
   "source": [
    "A significant number of the flight delays seem to be concentrated at around 6pm in the evening."
   ]
  },
  {
   "cell_type": "markdown",
   "id": "efccdedf",
   "metadata": {},
   "source": [
    "### Feature engineering"
   ]
  },
  {
   "cell_type": "code",
   "execution_count": 28,
   "id": "6680613d",
   "metadata": {},
   "outputs": [
    {
     "data": {
      "text/plain": [
       "17"
      ]
     },
     "execution_count": 28,
     "metadata": {},
     "output_type": "execute_result"
    }
   ],
   "source": [
    "flight_df['OP_UNIQUE_CARRIER'].nunique()"
   ]
  },
  {
   "cell_type": "code",
   "execution_count": 29,
   "id": "5fdaeda1",
   "metadata": {},
   "outputs": [
    {
     "data": {
      "text/html": [
       "<div>\n",
       "<style scoped>\n",
       "    .dataframe tbody tr th:only-of-type {\n",
       "        vertical-align: middle;\n",
       "    }\n",
       "\n",
       "    .dataframe tbody tr th {\n",
       "        vertical-align: top;\n",
       "    }\n",
       "\n",
       "    .dataframe thead th {\n",
       "        text-align: right;\n",
       "    }\n",
       "</style>\n",
       "<table border=\"1\" class=\"dataframe\">\n",
       "  <thead>\n",
       "    <tr style=\"text-align: right;\">\n",
       "      <th></th>\n",
       "      <th>OP_UNIQUE_CARRIER</th>\n",
       "      <th>ARR_DEL15</th>\n",
       "      <th>CARRIER_cat</th>\n",
       "    </tr>\n",
       "  </thead>\n",
       "  <tbody>\n",
       "    <tr>\n",
       "      <th>14</th>\n",
       "      <td>WN</td>\n",
       "      <td>26432.0</td>\n",
       "      <td>16</td>\n",
       "    </tr>\n",
       "    <tr>\n",
       "      <th>1</th>\n",
       "      <td>AA</td>\n",
       "      <td>25089.0</td>\n",
       "      <td>15</td>\n",
       "    </tr>\n",
       "    <tr>\n",
       "      <th>12</th>\n",
       "      <td>OO</td>\n",
       "      <td>24716.0</td>\n",
       "      <td>14</td>\n",
       "    </tr>\n",
       "    <tr>\n",
       "      <th>4</th>\n",
       "      <td>DL</td>\n",
       "      <td>17862.0</td>\n",
       "      <td>13</td>\n",
       "    </tr>\n",
       "    <tr>\n",
       "      <th>13</th>\n",
       "      <td>UA</td>\n",
       "      <td>15391.0</td>\n",
       "      <td>12</td>\n",
       "    </tr>\n",
       "    <tr>\n",
       "      <th>9</th>\n",
       "      <td>MQ</td>\n",
       "      <td>10823.0</td>\n",
       "      <td>11</td>\n",
       "    </tr>\n",
       "    <tr>\n",
       "      <th>3</th>\n",
       "      <td>B6</td>\n",
       "      <td>10104.0</td>\n",
       "      <td>10</td>\n",
       "    </tr>\n",
       "    <tr>\n",
       "      <th>16</th>\n",
       "      <td>YX</td>\n",
       "      <td>9292.0</td>\n",
       "      <td>9</td>\n",
       "    </tr>\n",
       "    <tr>\n",
       "      <th>11</th>\n",
       "      <td>OH</td>\n",
       "      <td>8641.0</td>\n",
       "      <td>8</td>\n",
       "    </tr>\n",
       "    <tr>\n",
       "      <th>2</th>\n",
       "      <td>AS</td>\n",
       "      <td>7899.0</td>\n",
       "      <td>7</td>\n",
       "    </tr>\n",
       "    <tr>\n",
       "      <th>0</th>\n",
       "      <td>9E</td>\n",
       "      <td>6528.0</td>\n",
       "      <td>6</td>\n",
       "    </tr>\n",
       "    <tr>\n",
       "      <th>15</th>\n",
       "      <td>YV</td>\n",
       "      <td>6428.0</td>\n",
       "      <td>5</td>\n",
       "    </tr>\n",
       "    <tr>\n",
       "      <th>10</th>\n",
       "      <td>NK</td>\n",
       "      <td>4717.0</td>\n",
       "      <td>4</td>\n",
       "    </tr>\n",
       "    <tr>\n",
       "      <th>5</th>\n",
       "      <td>EV</td>\n",
       "      <td>4623.0</td>\n",
       "      <td>3</td>\n",
       "    </tr>\n",
       "    <tr>\n",
       "      <th>6</th>\n",
       "      <td>F9</td>\n",
       "      <td>4157.0</td>\n",
       "      <td>2</td>\n",
       "    </tr>\n",
       "    <tr>\n",
       "      <th>7</th>\n",
       "      <td>G4</td>\n",
       "      <td>3266.0</td>\n",
       "      <td>1</td>\n",
       "    </tr>\n",
       "    <tr>\n",
       "      <th>8</th>\n",
       "      <td>HA</td>\n",
       "      <td>1539.0</td>\n",
       "      <td>0</td>\n",
       "    </tr>\n",
       "  </tbody>\n",
       "</table>\n",
       "</div>"
      ],
      "text/plain": [
       "   OP_UNIQUE_CARRIER  ARR_DEL15  CARRIER_cat\n",
       "14                WN    26432.0           16\n",
       "1                 AA    25089.0           15\n",
       "12                OO    24716.0           14\n",
       "4                 DL    17862.0           13\n",
       "13                UA    15391.0           12\n",
       "9                 MQ    10823.0           11\n",
       "3                 B6    10104.0           10\n",
       "16                YX     9292.0            9\n",
       "11                OH     8641.0            8\n",
       "2                 AS     7899.0            7\n",
       "0                 9E     6528.0            6\n",
       "15                YV     6428.0            5\n",
       "10                NK     4717.0            4\n",
       "5                 EV     4623.0            3\n",
       "6                 F9     4157.0            2\n",
       "7                 G4     3266.0            1\n",
       "8                 HA     1539.0            0"
      ]
     },
     "execution_count": 29,
     "metadata": {},
     "output_type": "execute_result"
    }
   ],
   "source": [
    "# Convert 'ARR_DEL15' to a numeric type\n",
    "flight_df['ARR_DEL15'] = pd.to_numeric(flight_df['ARR_DEL15'])\n",
    "\n",
    "# Calculate the sum of 'ARR_DEL15' for each unique carrier\n",
    "carrier_df = flight_df.groupby('OP_UNIQUE_CARRIER')['ARR_DEL15'].sum().reset_index()\n",
    "\n",
    "# Sort the DataFrame by 'ARR_DEL15' in descending order\n",
    "carrier_df = carrier_df.sort_values(by='ARR_DEL15', ascending=False)\n",
    "\n",
    "# Add the 'CARRIER_cat' column using pd.qcut as you did before\n",
    "carrier_df['CARRIER_cat'] = pd.qcut(carrier_df['ARR_DEL15'], 17, labels=False)\n",
    "\n",
    "# >>>This code prepares a DataFrame (carrier_df) that summarizes the performance of unique carriers in terms of the number of delayed arrivals, categorizing them into groups based on their delay statistics.\n",
    "\n",
    "carrier_df"
   ]
  },
  {
   "cell_type": "code",
   "execution_count": 30,
   "id": "98a9c37b",
   "metadata": {},
   "outputs": [],
   "source": [
    "# Step 1: Create a carrier to 'CARRIER_cat' dictionary\n",
    "carrier_to_cat = carrier_df.set_index('OP_UNIQUE_CARRIER')['CARRIER_cat'].to_dict()\n",
    "\n",
    "# Step 2: Map 'OP_UNIQUE_CARRIER' to 'CARRIER_cat' in flight_df\n",
    "flight_df['CARRIER_cat'] = flight_df['OP_UNIQUE_CARRIER'].map(carrier_to_cat)\n",
    "\n",
    "# >>>This code adds a new column 'CARRIER_cat' to the flight_df DataFrame, providing a categorical representation of each flight's carrier in terms of their performance regarding delayed arrivals."
   ]
  },
  {
   "cell_type": "code",
   "execution_count": 31,
   "id": "5dbbd2cd",
   "metadata": {},
   "outputs": [
    {
     "data": {
      "text/plain": [
       "19"
      ]
     },
     "execution_count": 31,
     "metadata": {},
     "output_type": "execute_result"
    }
   ],
   "source": [
    "flight_df['DEP_TIME_BLK'].nunique()"
   ]
  },
  {
   "cell_type": "code",
   "execution_count": 32,
   "id": "61a8cea8",
   "metadata": {},
   "outputs": [
    {
     "data": {
      "text/html": [
       "<div>\n",
       "<style scoped>\n",
       "    .dataframe tbody tr th:only-of-type {\n",
       "        vertical-align: middle;\n",
       "    }\n",
       "\n",
       "    .dataframe tbody tr th {\n",
       "        vertical-align: top;\n",
       "    }\n",
       "\n",
       "    .dataframe thead th {\n",
       "        text-align: right;\n",
       "    }\n",
       "</style>\n",
       "<table border=\"1\" class=\"dataframe\">\n",
       "  <thead>\n",
       "    <tr style=\"text-align: right;\">\n",
       "      <th></th>\n",
       "      <th>ARR_DEL15</th>\n",
       "      <th>TIME_cat</th>\n",
       "    </tr>\n",
       "    <tr>\n",
       "      <th>DEP_TIME_BLK</th>\n",
       "      <th></th>\n",
       "      <th></th>\n",
       "    </tr>\n",
       "  </thead>\n",
       "  <tbody>\n",
       "    <tr>\n",
       "      <th>1700-1759</th>\n",
       "      <td>14875.0</td>\n",
       "      <td>18</td>\n",
       "    </tr>\n",
       "    <tr>\n",
       "      <th>1800-1859</th>\n",
       "      <td>14020.0</td>\n",
       "      <td>17</td>\n",
       "    </tr>\n",
       "    <tr>\n",
       "      <th>1600-1659</th>\n",
       "      <td>13292.0</td>\n",
       "      <td>16</td>\n",
       "    </tr>\n",
       "    <tr>\n",
       "      <th>1500-1559</th>\n",
       "      <td>12760.0</td>\n",
       "      <td>15</td>\n",
       "    </tr>\n",
       "    <tr>\n",
       "      <th>1900-1959</th>\n",
       "      <td>12640.0</td>\n",
       "      <td>14</td>\n",
       "    </tr>\n",
       "    <tr>\n",
       "      <th>1400-1459</th>\n",
       "      <td>12618.0</td>\n",
       "      <td>13</td>\n",
       "    </tr>\n",
       "    <tr>\n",
       "      <th>1200-1259</th>\n",
       "      <td>11761.0</td>\n",
       "      <td>12</td>\n",
       "    </tr>\n",
       "    <tr>\n",
       "      <th>1100-1159</th>\n",
       "      <td>11181.0</td>\n",
       "      <td>11</td>\n",
       "    </tr>\n",
       "    <tr>\n",
       "      <th>1300-1359</th>\n",
       "      <td>11101.0</td>\n",
       "      <td>10</td>\n",
       "    </tr>\n",
       "    <tr>\n",
       "      <th>1000-1059</th>\n",
       "      <td>10708.0</td>\n",
       "      <td>9</td>\n",
       "    </tr>\n",
       "    <tr>\n",
       "      <th>2000-2059</th>\n",
       "      <td>10682.0</td>\n",
       "      <td>8</td>\n",
       "    </tr>\n",
       "    <tr>\n",
       "      <th>0800-0859</th>\n",
       "      <td>10060.0</td>\n",
       "      <td>7</td>\n",
       "    </tr>\n",
       "    <tr>\n",
       "      <th>0900-0959</th>\n",
       "      <td>9375.0</td>\n",
       "      <td>6</td>\n",
       "    </tr>\n",
       "    <tr>\n",
       "      <th>0700-0759</th>\n",
       "      <td>8938.0</td>\n",
       "      <td>5</td>\n",
       "    </tr>\n",
       "    <tr>\n",
       "      <th>0600-0659</th>\n",
       "      <td>8334.0</td>\n",
       "      <td>4</td>\n",
       "    </tr>\n",
       "    <tr>\n",
       "      <th>2100-2159</th>\n",
       "      <td>6438.0</td>\n",
       "      <td>3</td>\n",
       "    </tr>\n",
       "    <tr>\n",
       "      <th>2200-2259</th>\n",
       "      <td>4291.0</td>\n",
       "      <td>2</td>\n",
       "    </tr>\n",
       "    <tr>\n",
       "      <th>0001-0559</th>\n",
       "      <td>3279.0</td>\n",
       "      <td>1</td>\n",
       "    </tr>\n",
       "    <tr>\n",
       "      <th>2300-2359</th>\n",
       "      <td>1154.0</td>\n",
       "      <td>0</td>\n",
       "    </tr>\n",
       "  </tbody>\n",
       "</table>\n",
       "</div>"
      ],
      "text/plain": [
       "              ARR_DEL15  TIME_cat\n",
       "DEP_TIME_BLK                     \n",
       "1700-1759       14875.0        18\n",
       "1800-1859       14020.0        17\n",
       "1600-1659       13292.0        16\n",
       "1500-1559       12760.0        15\n",
       "1900-1959       12640.0        14\n",
       "1400-1459       12618.0        13\n",
       "1200-1259       11761.0        12\n",
       "1100-1159       11181.0        11\n",
       "1300-1359       11101.0        10\n",
       "1000-1059       10708.0         9\n",
       "2000-2059       10682.0         8\n",
       "0800-0859       10060.0         7\n",
       "0900-0959        9375.0         6\n",
       "0700-0759        8938.0         5\n",
       "0600-0659        8334.0         4\n",
       "2100-2159        6438.0         3\n",
       "2200-2259        4291.0         2\n",
       "0001-0559        3279.0         1\n",
       "2300-2359        1154.0         0"
      ]
     },
     "execution_count": 32,
     "metadata": {},
     "output_type": "execute_result"
    }
   ],
   "source": [
    "time_blk_df = flight_df[['DEP_TIME_BLK','ARR_DEL15']].groupby('DEP_TIME_BLK').sum().sort_values(by='ARR_DEL15',ascending=False)\n",
    "time_blk_df['TIME_cat'] = pd.qcut(time_blk_df['ARR_DEL15'], 19, labels = False)\n",
    "\n",
    "# >>>This code prepares a DataFrame (time_blk_df) that summarizes the performance of departure time blocks in terms of the number of delayed arrivals and categorizes them into groups based on their delay statistics.\n",
    "time_blk_df"
   ]
  },
  {
   "cell_type": "code",
   "execution_count": 33,
   "id": "57779062",
   "metadata": {},
   "outputs": [],
   "source": [
    "data_time = time_blk_df.loc[flight_df['DEP_TIME_BLK']].reset_index()\n",
    "flight_df['DEP_TIME_cat'] = data_time['TIME_cat']"
   ]
  },
  {
   "cell_type": "code",
   "execution_count": 34,
   "id": "a338eba9",
   "metadata": {},
   "outputs": [
    {
     "data": {
      "text/plain": [
       "353"
      ]
     },
     "execution_count": 34,
     "metadata": {},
     "output_type": "execute_result"
    }
   ],
   "source": [
    "flight_df.ORIGIN.nunique()"
   ]
  },
  {
   "cell_type": "code",
   "execution_count": 35,
   "id": "91347a37",
   "metadata": {},
   "outputs": [
    {
     "data": {
      "text/html": [
       "<div>\n",
       "<style scoped>\n",
       "    .dataframe tbody tr th:only-of-type {\n",
       "        vertical-align: middle;\n",
       "    }\n",
       "\n",
       "    .dataframe tbody tr th {\n",
       "        vertical-align: top;\n",
       "    }\n",
       "\n",
       "    .dataframe thead th {\n",
       "        text-align: right;\n",
       "    }\n",
       "</style>\n",
       "<table border=\"1\" class=\"dataframe\">\n",
       "  <thead>\n",
       "    <tr style=\"text-align: right;\">\n",
       "      <th></th>\n",
       "      <th>ARR_DEL15</th>\n",
       "      <th>ORIGIN_cat</th>\n",
       "    </tr>\n",
       "    <tr>\n",
       "      <th>ORIGIN</th>\n",
       "      <th></th>\n",
       "      <th></th>\n",
       "    </tr>\n",
       "  </thead>\n",
       "  <tbody>\n",
       "    <tr>\n",
       "      <th>ORD</th>\n",
       "      <td>12342.0</td>\n",
       "      <td>24</td>\n",
       "    </tr>\n",
       "    <tr>\n",
       "      <th>DFW</th>\n",
       "      <td>8802.0</td>\n",
       "      <td>24</td>\n",
       "    </tr>\n",
       "    <tr>\n",
       "      <th>ATL</th>\n",
       "      <td>7271.0</td>\n",
       "      <td>24</td>\n",
       "    </tr>\n",
       "    <tr>\n",
       "      <th>CLT</th>\n",
       "      <td>6622.0</td>\n",
       "      <td>24</td>\n",
       "    </tr>\n",
       "    <tr>\n",
       "      <th>DEN</th>\n",
       "      <td>5987.0</td>\n",
       "      <td>24</td>\n",
       "    </tr>\n",
       "    <tr>\n",
       "      <th>...</th>\n",
       "      <td>...</td>\n",
       "      <td>...</td>\n",
       "    </tr>\n",
       "    <tr>\n",
       "      <th>OWB</th>\n",
       "      <td>5.0</td>\n",
       "      <td>0</td>\n",
       "    </tr>\n",
       "    <tr>\n",
       "      <th>LWS</th>\n",
       "      <td>4.0</td>\n",
       "      <td>0</td>\n",
       "    </tr>\n",
       "    <tr>\n",
       "      <th>PPG</th>\n",
       "      <td>3.0</td>\n",
       "      <td>0</td>\n",
       "    </tr>\n",
       "    <tr>\n",
       "      <th>PIR</th>\n",
       "      <td>3.0</td>\n",
       "      <td>0</td>\n",
       "    </tr>\n",
       "    <tr>\n",
       "      <th>BFM</th>\n",
       "      <td>1.0</td>\n",
       "      <td>0</td>\n",
       "    </tr>\n",
       "  </tbody>\n",
       "</table>\n",
       "<p>353 rows × 2 columns</p>\n",
       "</div>"
      ],
      "text/plain": [
       "        ARR_DEL15  ORIGIN_cat\n",
       "ORIGIN                       \n",
       "ORD       12342.0          24\n",
       "DFW        8802.0          24\n",
       "ATL        7271.0          24\n",
       "CLT        6622.0          24\n",
       "DEN        5987.0          24\n",
       "...           ...         ...\n",
       "OWB           5.0           0\n",
       "LWS           4.0           0\n",
       "PPG           3.0           0\n",
       "PIR           3.0           0\n",
       "BFM           1.0           0\n",
       "\n",
       "[353 rows x 2 columns]"
      ]
     },
     "execution_count": 35,
     "metadata": {},
     "output_type": "execute_result"
    }
   ],
   "source": [
    "origin_df = flight_df[['ORIGIN','ARR_DEL15']].groupby('ORIGIN').sum().sort_values(by='ARR_DEL15',ascending=False)\n",
    "origin_df['ORIGIN_cat'] = pd.qcut(origin_df['ARR_DEL15'], 25, labels = False)\n",
    "\n",
    "# >>> This code prepares a DataFrame (origin_df) that summarizes the performance of origin airports in terms of the number of delayed arrivals and categorizes them into groups based on their delay statistics.\n",
    "origin_df"
   ]
  },
  {
   "cell_type": "code",
   "execution_count": 36,
   "id": "357e8e9c",
   "metadata": {},
   "outputs": [],
   "source": [
    "data_origin = origin_df.loc[flight_df['ORIGIN']].reset_index()\n",
    "flight_df['ORIGIN_cat'] = data_origin['ORIGIN_cat']"
   ]
  },
  {
   "cell_type": "code",
   "execution_count": 37,
   "id": "e48a4de8",
   "metadata": {},
   "outputs": [
    {
     "data": {
      "text/plain": [
       "353"
      ]
     },
     "execution_count": 37,
     "metadata": {},
     "output_type": "execute_result"
    }
   ],
   "source": [
    "flight_df.DEST.nunique()"
   ]
  },
  {
   "cell_type": "code",
   "execution_count": 38,
   "id": "e4f816b7",
   "metadata": {},
   "outputs": [
    {
     "data": {
      "text/html": [
       "<div>\n",
       "<style scoped>\n",
       "    .dataframe tbody tr th:only-of-type {\n",
       "        vertical-align: middle;\n",
       "    }\n",
       "\n",
       "    .dataframe tbody tr th {\n",
       "        vertical-align: top;\n",
       "    }\n",
       "\n",
       "    .dataframe thead th {\n",
       "        text-align: right;\n",
       "    }\n",
       "</style>\n",
       "<table border=\"1\" class=\"dataframe\">\n",
       "  <thead>\n",
       "    <tr style=\"text-align: right;\">\n",
       "      <th></th>\n",
       "      <th>ARR_DEL15</th>\n",
       "      <th>DEST_cat</th>\n",
       "    </tr>\n",
       "    <tr>\n",
       "      <th>DEST</th>\n",
       "      <th></th>\n",
       "      <th></th>\n",
       "    </tr>\n",
       "  </thead>\n",
       "  <tbody>\n",
       "    <tr>\n",
       "      <th>ORD</th>\n",
       "      <td>10170.0</td>\n",
       "      <td>24</td>\n",
       "    </tr>\n",
       "    <tr>\n",
       "      <th>DFW</th>\n",
       "      <td>8667.0</td>\n",
       "      <td>24</td>\n",
       "    </tr>\n",
       "    <tr>\n",
       "      <th>ATL</th>\n",
       "      <td>7263.0</td>\n",
       "      <td>24</td>\n",
       "    </tr>\n",
       "    <tr>\n",
       "      <th>LGA</th>\n",
       "      <td>7077.0</td>\n",
       "      <td>24</td>\n",
       "    </tr>\n",
       "    <tr>\n",
       "      <th>SFO</th>\n",
       "      <td>6114.0</td>\n",
       "      <td>24</td>\n",
       "    </tr>\n",
       "    <tr>\n",
       "      <th>...</th>\n",
       "      <td>...</td>\n",
       "      <td>...</td>\n",
       "    </tr>\n",
       "    <tr>\n",
       "      <th>OWB</th>\n",
       "      <td>3.0</td>\n",
       "      <td>0</td>\n",
       "    </tr>\n",
       "    <tr>\n",
       "      <th>ATY</th>\n",
       "      <td>3.0</td>\n",
       "      <td>0</td>\n",
       "    </tr>\n",
       "    <tr>\n",
       "      <th>ADK</th>\n",
       "      <td>3.0</td>\n",
       "      <td>0</td>\n",
       "    </tr>\n",
       "    <tr>\n",
       "      <th>BFM</th>\n",
       "      <td>3.0</td>\n",
       "      <td>0</td>\n",
       "    </tr>\n",
       "    <tr>\n",
       "      <th>STC</th>\n",
       "      <td>2.0</td>\n",
       "      <td>0</td>\n",
       "    </tr>\n",
       "  </tbody>\n",
       "</table>\n",
       "<p>353 rows × 2 columns</p>\n",
       "</div>"
      ],
      "text/plain": [
       "      ARR_DEL15  DEST_cat\n",
       "DEST                     \n",
       "ORD     10170.0        24\n",
       "DFW      8667.0        24\n",
       "ATL      7263.0        24\n",
       "LGA      7077.0        24\n",
       "SFO      6114.0        24\n",
       "...         ...       ...\n",
       "OWB         3.0         0\n",
       "ATY         3.0         0\n",
       "ADK         3.0         0\n",
       "BFM         3.0         0\n",
       "STC         2.0         0\n",
       "\n",
       "[353 rows x 2 columns]"
      ]
     },
     "execution_count": 38,
     "metadata": {},
     "output_type": "execute_result"
    }
   ],
   "source": [
    "dest_df = flight_df[['DEST','ARR_DEL15']].groupby('DEST').sum().sort_values(by='ARR_DEL15',ascending=False)\n",
    "dest_df['DEST_cat'] = pd.qcut(dest_df['ARR_DEL15'], 25, labels = False)\n",
    "dest_df"
   ]
  },
  {
   "cell_type": "code",
   "execution_count": 39,
   "id": "efe1d7bc",
   "metadata": {},
   "outputs": [],
   "source": [
    "data_dest = dest_df.loc[flight_df['DEST']].reset_index()\n",
    "flight_df['DEST_cat'] = data_dest['DEST_cat']"
   ]
  },
  {
   "cell_type": "markdown",
   "id": "9fb88734",
   "metadata": {},
   "source": [
    "### Data preprocessing"
   ]
  },
  {
   "cell_type": "code",
   "execution_count": 40,
   "id": "32cd9095",
   "metadata": {},
   "outputs": [],
   "source": [
    "flight_df = flight_df[['DAY_OF_MONTH', 'DAY_OF_WEEK', 'CARRIER_cat', 'DEP_TIME_cat', 'ORIGIN_cat', 'DEST_cat', 'DISTANCE', 'ARR_DEL15']]"
   ]
  },
  {
   "cell_type": "code",
   "execution_count": 41,
   "id": "a4f82f37",
   "metadata": {},
   "outputs": [],
   "source": [
    "# Separate data for the year 2019\n",
    "flight_2019 = flight_df.loc[2019]\n",
    "\n",
    "# Separate data for the year 2020\n",
    "flight_2020 = flight_df.loc[2020]\n"
   ]
  },
  {
   "cell_type": "code",
   "execution_count": 42,
   "id": "f4e67129",
   "metadata": {},
   "outputs": [
    {
     "name": "stdout",
     "output_type": "stream",
     "text": [
      "<class 'pandas.core.frame.DataFrame'>\n",
      "Int64Index: 583985 entries, 2019 to 2019\n",
      "Data columns (total 8 columns):\n",
      " #   Column        Non-Null Count   Dtype  \n",
      "---  ------        --------------   -----  \n",
      " 0   DAY_OF_MONTH  583985 non-null  int64  \n",
      " 1   DAY_OF_WEEK   583985 non-null  int64  \n",
      " 2   CARRIER_cat   583985 non-null  int64  \n",
      " 3   DEP_TIME_cat  583985 non-null  int64  \n",
      " 4   ORIGIN_cat    583985 non-null  int64  \n",
      " 5   DEST_cat      583985 non-null  int64  \n",
      " 6   DISTANCE      583985 non-null  float64\n",
      " 7   ARR_DEL15     583985 non-null  float64\n",
      "dtypes: float64(2), int64(6)\n",
      "memory usage: 40.1 MB\n"
     ]
    }
   ],
   "source": [
    "flight_2019.info()"
   ]
  },
  {
   "cell_type": "code",
   "execution_count": 66,
   "id": "31f114dc",
   "metadata": {},
   "outputs": [],
   "source": [
    "# Due to the large number of feature vectors in the data, I will choose a random sample of 60,000 for data training and testing.\n",
    "# Defining the sample size\n",
    "sample_size = 60000\n",
    "\n",
    "# Randomly sample data from flight_df with a specified sample size and seed\n",
    "flight_sample = flight_df.sample(n=sample_size, random_state=42)\n"
   ]
  },
  {
   "cell_type": "code",
   "execution_count": 44,
   "id": "e15424ad",
   "metadata": {},
   "outputs": [],
   "source": [
    "# We first separate the inputs from the target variable\n",
    "\n",
    "input_df = flight_sample.drop('ARR_DEL15', axis=1)\n",
    "target_df =  flight_sample[['ARR_DEL15']]"
   ]
  },
  {
   "cell_type": "code",
   "execution_count": 45,
   "id": "71e79154",
   "metadata": {},
   "outputs": [
    {
     "data": {
      "text/plain": [
       "ARR_DEL15\n",
       "0.0          50450\n",
       "1.0           9550\n",
       "dtype: int64"
      ]
     },
     "execution_count": 45,
     "metadata": {},
     "output_type": "execute_result"
    }
   ],
   "source": [
    "# This code counts the occurrences of each unique value in the target_df DataFrame.\n",
    "\n",
    "target_df.value_counts()"
   ]
  },
  {
   "cell_type": "code",
   "execution_count": 46,
   "id": "eaf271bc",
   "metadata": {},
   "outputs": [],
   "source": [
    "# Assigning input_df to X and target_df to y for clarity\n",
    "X = input_df\n",
    "y = target_df"
   ]
  },
  {
   "cell_type": "code",
   "execution_count": 47,
   "id": "abad16cf",
   "metadata": {},
   "outputs": [],
   "source": [
    "# Importing the SMOTE class from the imblearn.over_sampling module\n",
    "from imblearn.over_sampling import SMOTE"
   ]
  },
  {
   "cell_type": "code",
   "execution_count": 48,
   "id": "4510a92c",
   "metadata": {},
   "outputs": [],
   "source": [
    "# I will use the smote() function to rectify the skewness inherent in the data.\n",
    "oversample = SMOTE()\n",
    "X, y = oversample.fit_resample(X, y)"
   ]
  },
  {
   "cell_type": "code",
   "execution_count": 49,
   "id": "ca84877a",
   "metadata": {},
   "outputs": [],
   "source": [
    "# Changing the scale of the feature vectors to ensure compatibility with the machine learning models.\n",
    "X = StandardScaler().fit_transform(X)\n",
    "X = MinMaxScaler().fit_transform(X)"
   ]
  },
  {
   "cell_type": "code",
   "execution_count": 50,
   "id": "5a40d598",
   "metadata": {},
   "outputs": [
    {
     "data": {
      "text/plain": [
       "(100900, 7)"
      ]
     },
     "execution_count": 50,
     "metadata": {},
     "output_type": "execute_result"
    }
   ],
   "source": [
    "X.shape"
   ]
  },
  {
   "cell_type": "code",
   "execution_count": 51,
   "id": "d524c328",
   "metadata": {},
   "outputs": [],
   "source": [
    "y = y.values.ravel()  # Convert y to a one-dimensional numpy array"
   ]
  },
  {
   "cell_type": "code",
   "execution_count": 52,
   "id": "9fb3aa6a",
   "metadata": {},
   "outputs": [
    {
     "data": {
      "text/plain": [
       "(100900,)"
      ]
     },
     "execution_count": 52,
     "metadata": {},
     "output_type": "execute_result"
    }
   ],
   "source": [
    "y.shape"
   ]
  },
  {
   "cell_type": "code",
   "execution_count": 53,
   "id": "011b0593",
   "metadata": {},
   "outputs": [],
   "source": [
    "# Import the train_test_split function\n",
    "from sklearn.model_selection import train_test_split"
   ]
  },
  {
   "cell_type": "code",
   "execution_count": 54,
   "id": "50ff5e90",
   "metadata": {},
   "outputs": [],
   "source": [
    "# Split the data into training and testing sets\n",
    "X_train, X_test, y_train, y_test = train_test_split(X, y, test_size=0.2, random_state=42)"
   ]
  },
  {
   "cell_type": "markdown",
   "id": "16d40505",
   "metadata": {},
   "source": [
    "## Model Training"
   ]
  },
  {
   "cell_type": "markdown",
   "id": "e73d49b8",
   "metadata": {},
   "source": [
    "### 1) Decision Tree"
   ]
  },
  {
   "cell_type": "code",
   "execution_count": 57,
   "id": "e7bdf4bc",
   "metadata": {},
   "outputs": [
    {
     "name": "stdout",
     "output_type": "stream",
     "text": [
      "Decision Tree Accuracy: 77.36%\n"
     ]
    }
   ],
   "source": [
    "# Create a Decision Tree classifier\n",
    "tree_classifier = DecisionTreeClassifier()\n",
    "\n",
    "# Train the Decision Tree classifier on the training data\n",
    "tree_classifier.fit(X_train, y_train)\n",
    "\n",
    "# Make predictions on the test data\n",
    "y_pred_tree = tree_classifier.predict(X_test)\n",
    "\n",
    "# Calculate the accuracy of the Decision Tree classifier\n",
    "accuracy_tree = accuracy_score(y_test, y_pred_tree)\n",
    "\n",
    "print(f'Decision Tree Accuracy: {accuracy_tree * 100:.2f}%')"
   ]
  },
  {
   "cell_type": "markdown",
   "id": "7fb6e5d1",
   "metadata": {},
   "source": [
    "### Hyperparameter tuning\n",
    "> - max_depth\n",
    "> - min_samples_split"
   ]
  },
  {
   "cell_type": "code",
   "execution_count": 58,
   "id": "d95ff1d2",
   "metadata": {},
   "outputs": [
    {
     "name": "stdout",
     "output_type": "stream",
     "text": [
      "Best max_depth: 50\n",
      "Best accuracy: 77.36%\n"
     ]
    }
   ],
   "source": [
    "# Initialize a list to store accuracy values\n",
    "accuracy_values = []\n",
    "\n",
    "# Define a range of max_depth values to try\n",
    "max_depth_values = [None, 10, 20, 30, 40, 50]\n",
    "\n",
    "# Iterate over max_depth values\n",
    "for max_depth in max_depth_values:\n",
    "    # Create a Decision Tree classifier with the current max_depth\n",
    "    tree_classifier = DecisionTreeClassifier(max_depth=max_depth)\n",
    "\n",
    "    # Train the Decision Tree classifier on the training data\n",
    "    tree_classifier.fit(X_train, y_train)\n",
    "\n",
    "    # Make predictions on the validation data\n",
    "    y_pred_tree = tree_classifier.predict(X_test)\n",
    "\n",
    "    # Calculate the accuracy of the Decision Tree classifier on the validation set\n",
    "    accuracy_tree = accuracy_score(y_test, y_pred_tree)\n",
    "    accuracy_values.append(accuracy_tree)\n",
    "\n",
    "# Find the max_depth that gives the highest accuracy\n",
    "best_max_depth = max_depth_values[accuracy_values.index(max(accuracy_values))]\n",
    "\n",
    "print(f'Best max_depth: {best_max_depth}')\n",
    "print(f'Best accuracy: {max(accuracy_values) * 100:.2f}%')\n"
   ]
  },
  {
   "cell_type": "code",
   "execution_count": 59,
   "id": "4e23b788",
   "metadata": {},
   "outputs": [
    {
     "name": "stdout",
     "output_type": "stream",
     "text": [
      "Best min_samples_split: 2\n",
      "Best accuracy: 77.33%\n"
     ]
    }
   ],
   "source": [
    "# Initialize a list to store accuracy values\n",
    "accuracy_values = []\n",
    "\n",
    "# Define a range of min_samples_split values to try\n",
    "min_samples_split_values = [2, 5, 10, 20, 30, 40]\n",
    "\n",
    "# Iterate over min_samples_split values\n",
    "for min_samples_split in min_samples_split_values:\n",
    "    # Create a Decision Tree classifier with the current min_samples_split\n",
    "    tree_classifier = DecisionTreeClassifier(min_samples_split=min_samples_split)\n",
    "\n",
    "    # Train the Decision Tree classifier on the training data\n",
    "    tree_classifier.fit(X_train, y_train)\n",
    "\n",
    "    # Make predictions on the validation data\n",
    "    y_pred_tree = tree_classifier.predict(X_test)\n",
    "\n",
    "    # Calculate the accuracy of the Decision Tree classifier on the validation set\n",
    "    accuracy_tree = accuracy_score(y_test, y_pred_tree)\n",
    "    accuracy_values.append(accuracy_tree)\n",
    "\n",
    "# Find the min_samples_split that gives the highest accuracy\n",
    "best_min_samples_split = min_samples_split_values[accuracy_values.index(max(accuracy_values))]\n",
    "\n",
    "print(f'Best min_samples_split: {best_min_samples_split}')\n",
    "print(f'Best accuracy: {max(accuracy_values) * 100:.2f}%')\n"
   ]
  },
  {
   "cell_type": "code",
   "execution_count": 60,
   "id": "916c46ca",
   "metadata": {},
   "outputs": [
    {
     "name": "stdout",
     "output_type": "stream",
     "text": [
      "Decision Tree Accuracy (max_depth=50, min_samples_split=2): 77.32%\n"
     ]
    }
   ],
   "source": [
    "# Create a Decision Tree classifier with max_depth=50 and min_samples_split=2\n",
    "tree_classifier = DecisionTreeClassifier(max_depth=50, min_samples_split=2)\n",
    "\n",
    "# Train the Decision Tree classifier on the training data\n",
    "tree_classifier.fit(X_train, y_train)\n",
    "\n",
    "# Make predictions on the test data\n",
    "y_pred_tree = tree_classifier.predict(X_test)\n",
    "\n",
    "# Calculate the accuracy of the Decision Tree classifier\n",
    "accuracy_tree = accuracy_score(y_test, y_pred_tree)\n",
    "\n",
    "print(f'Decision Tree Accuracy (max_depth=50, min_samples_split=2): {accuracy_tree * 100:.2f}%')"
   ]
  },
  {
   "cell_type": "markdown",
   "id": "d909989a",
   "metadata": {},
   "source": [
    "### 2) Random Forest"
   ]
  },
  {
   "cell_type": "code",
   "execution_count": 61,
   "id": "560a47e9",
   "metadata": {},
   "outputs": [
    {
     "name": "stdout",
     "output_type": "stream",
     "text": [
      "Random Forest Accuracy: 76.81%\n"
     ]
    }
   ],
   "source": [
    "# Create a Random Forest classifier\n",
    "rf_classifier = RandomForestClassifier()\n",
    "\n",
    "# Train the Random Forest classifier on the training data\n",
    "rf_classifier.fit(X_train, y_train)\n",
    "\n",
    "# Make predictions on the test data\n",
    "y_pred_rf = rf_classifier.predict(X_test)\n",
    "\n",
    "# Calculate the accuracy of the Random Forest classifier\n",
    "accuracy_rf = accuracy_score(y_test, y_pred_rf)\n",
    "\n",
    "print(f'Random Forest Accuracy: {accuracy_rf * 100:.2f}%')"
   ]
  },
  {
   "cell_type": "markdown",
   "id": "b3831cc5",
   "metadata": {},
   "source": [
    "### Hyperparameter tuning\n",
    "> - n_estimators\n",
    "> - max_depth"
   ]
  },
  {
   "cell_type": "code",
   "execution_count": 62,
   "id": "165e8322",
   "metadata": {},
   "outputs": [
    {
     "name": "stdout",
     "output_type": "stream",
     "text": [
      "Best n_estimators: 50\n",
      "Best accuracy: 76.84%\n"
     ]
    }
   ],
   "source": [
    "# Initialize a list to store accuracy values\n",
    "accuracy_values = []\n",
    "\n",
    "# Define a range of n_estimators values to try\n",
    "n_estimators_values = [10, 50, 100, 200, 300]\n",
    "\n",
    "# Iterate over n_estimators values\n",
    "for n_estimators in n_estimators_values:\n",
    "    # Create a Random Forest classifier with the current n_estimators\n",
    "    rf_classifier = RandomForestClassifier(n_estimators=n_estimators)\n",
    "\n",
    "    # Train the Random Forest classifier on the training data\n",
    "    rf_classifier.fit(X_train, y_train)\n",
    "\n",
    "    # Make predictions on the test data\n",
    "    y_pred_rf = rf_classifier.predict(X_test)\n",
    "\n",
    "    # Calculate the accuracy of the Random Forest classifier\n",
    "    accuracy_rf = accuracy_score(y_test, y_pred_rf)\n",
    "    accuracy_values.append(accuracy_rf)\n",
    "\n",
    "# Find the n_estimators that gives the highest accuracy\n",
    "best_n_estimators = n_estimators_values[accuracy_values.index(max(accuracy_values))]\n",
    "\n",
    "print(f'Best n_estimators: {best_n_estimators}')\n",
    "print(f'Best accuracy: {max(accuracy_values) * 100:.2f}%')"
   ]
  },
  {
   "cell_type": "code",
   "execution_count": 63,
   "id": "6bb62e73",
   "metadata": {},
   "outputs": [
    {
     "name": "stdout",
     "output_type": "stream",
     "text": [
      "Best max_depth: 50\n",
      "Best accuracy: 76.92%\n"
     ]
    }
   ],
   "source": [
    "# Initialize a list to store accuracy values\n",
    "accuracy_values = []\n",
    "\n",
    "# Define a range of max_depth values to try\n",
    "max_depth_values = [10, 20, 30, 40, 50]\n",
    "\n",
    "# Iterate over max_depth values\n",
    "for max_depth in max_depth_values:\n",
    "    # Create a Random Forest classifier with the current max_depth\n",
    "    rf_classifier = RandomForestClassifier(max_depth=max_depth)\n",
    "\n",
    "    # Train the Random Forest classifier on the training data\n",
    "    rf_classifier.fit(X_train, y_train)\n",
    "\n",
    "    # Make predictions on the test data\n",
    "    y_pred_rf = rf_classifier.predict(X_test)\n",
    "\n",
    "    # Calculate the accuracy of the Random Forest classifier\n",
    "    accuracy_rf = accuracy_score(y_test, y_pred_rf)\n",
    "    accuracy_values.append(accuracy_rf)\n",
    "\n",
    "# Find the max_depth that gives the highest accuracy\n",
    "best_max_depth = max_depth_values[accuracy_values.index(max(accuracy_values))]\n",
    "\n",
    "print(f'Best max_depth: {best_max_depth}')\n",
    "print(f'Best accuracy: {max(accuracy_values) * 100:.2f}%')"
   ]
  },
  {
   "cell_type": "code",
   "execution_count": 65,
   "id": "4d07c922",
   "metadata": {},
   "outputs": [
    {
     "name": "stdout",
     "output_type": "stream",
     "text": [
      "Random Forest Accuracy (max_depth=30, n_estimators=50): 76.95%\n"
     ]
    }
   ],
   "source": [
    "# Create a Random Forest classifier with max_depth=30 and n_estimators=50\n",
    "rf_classifier = RandomForestClassifier(max_depth=50, n_estimators=50)\n",
    "\n",
    "# Train the Random Forest classifier on the training data\n",
    "rf_classifier.fit(X_train, y_train)\n",
    "\n",
    "# Make predictions on the test data\n",
    "y_pred_rf = rf_classifier.predict(X_test)\n",
    "\n",
    "# Calculate the accuracy of the Random Forest classifier\n",
    "accuracy_rf = accuracy_score(y_test, y_pred_rf)\n",
    "\n",
    "print(f'Random Forest Accuracy (max_depth=30, n_estimators=50): {accuracy_rf * 100:.2f}%')"
   ]
  },
  {
   "cell_type": "markdown",
   "id": "133cba33",
   "metadata": {},
   "source": [
    "### Feature importance"
   ]
  },
  {
   "cell_type": "code",
   "execution_count": 72,
   "id": "f3546815",
   "metadata": {},
   "outputs": [
    {
     "data": {
      "text/plain": [
       "(80720, 7)"
      ]
     },
     "execution_count": 72,
     "metadata": {},
     "output_type": "execute_result"
    }
   ],
   "source": [
    "X_train.shape"
   ]
  },
  {
   "cell_type": "code",
   "execution_count": 73,
   "id": "41df168e",
   "metadata": {},
   "outputs": [],
   "source": [
    "X_train = pd.DataFrame(X_train, columns=['DAY_OF_MONTH', 'DAY_OF_WEEK', 'CARRIER_cat', 'DEP_TIME_cat', 'ORIGIN_cat', 'DEST_cat', 'DISTANCE'])"
   ]
  },
  {
   "cell_type": "code",
   "execution_count": 75,
   "id": "93965859",
   "metadata": {},
   "outputs": [
    {
     "data": {
      "image/png": "[encoded data removed]",
      "text/plain": [
       "<Figure size 1000x600 with 1 Axes>"
      ]
     },
     "metadata": {
      "needs_background": "light"
     },
     "output_type": "display_data"
    }
   ],
   "source": [
    "# Getting feature importances from the trained Random Forest classifier\n",
    "feature_importances = rf_classifier.feature_importances_\n",
    "\n",
    "# Creating a DataFrame to associate feature names with their importance scores\n",
    "importance_df = pd.DataFrame({'Feature': X_train.columns, 'Importance': feature_importances})\n",
    "\n",
    "# Sorting features by importance in descending order\n",
    "importance_df = importance_df.sort_values(by='Importance', ascending=False)\n",
    "\n",
    "# Ploting the top N most important features\n",
    "bar_color = 'indigo'\n",
    "top_n = 7\n",
    "plt.figure(figsize=(10, 6))\n",
    "plt.barh(importance_df['Feature'][:top_n], importance_df['Importance'][:top_n], color=bar_color)\n",
    "plt.xlabel('Importance')\n",
    "plt.ylabel('Feature')\n",
    "plt.title(f'Top {top_n} Most Important Features')\n",
    "plt.gca().invert_yaxis()  # Inverting the y-axis to show the most important features at the top\n",
    "plt.show()\n"
   ]
  },
  {
   "cell_type": "markdown",
   "id": "e7f97add",
   "metadata": {},
   "source": [
    "### Inference\n",
    "\n",
    ">- Distance is the most important variable for predictions.\n",
    ">- I used both the Decision tree and the Random forest models to train and make predictions based on the 2019 flight delay data set. Both models performed decently well with an accuracy score of 77.32% and 76.95% respectively."
   ]
  },
  {
   "cell_type": "markdown",
   "id": "9ea5e94b",
   "metadata": {},
   "source": [
    "### Conclusion\n",
    "\n",
    "> Both the Decision tree and the Random forest models can be used to predict future flight delays.\n",
    "> Based on the predictions, the concerned authorities can come up with strategies of reducing the number of flight delays and thus increase efficiency in the air transport sector."
   ]
  },
  {
   "cell_type": "markdown",
   "id": "cbb2d52a",
   "metadata": {},
   "source": [
    "### Reference\n",
    "\n",
    "> - Predicting the delay of flights: https://www.kaggle.com/code/brunovinicius154/predicting-the-delay-of-flights-auc-0-88\n",
    "> - EDA (understanding the data): https://www.kaggle.com/code/vasudevmaduri/eda-understanding-the-data"
   ]
  },
  {
   "cell_type": "code",
   "execution_count": 76,
   "id": "77cdb224",
   "metadata": {},
   "outputs": [],
   "source": [
    "!pip install jovian --upgrade --quiet"
   ]
  },
  {
   "cell_type": "code",
   "execution_count": 77,
   "id": "80f7d4fa",
   "metadata": {},
   "outputs": [
    {
     "data": {
      "application/javascript": [
       "if (window.IPython && IPython.notebook.kernel) IPython.notebook.kernel.execute('jovian.utils.jupyter.get_notebook_name_saved = lambda: \"' + IPython.notebook.notebook_name + '\"')"
      ],
      "text/plain": [
       "<IPython.core.display.Javascript object>"
      ]
     },
     "metadata": {},
     "output_type": "display_data"
    }
   ],
   "source": [
    "import jovian"
   ]
  },
  {
   "cell_type": "code",
   "execution_count": 78,
   "id": "c2705686",
   "metadata": {},
   "outputs": [
    {
     "data": {
      "application/javascript": [
       "window.require && require([\"base/js/namespace\"],function(Jupyter){Jupyter.notebook.save_checkpoint()})"
      ],
      "text/plain": [
       "<IPython.core.display.Javascript object>"
      ]
     },
     "metadata": {},
     "output_type": "display_data"
    },
    {
     "name": "stdout",
     "output_type": "stream",
     "text": [
      "[jovian] Please enter your API key ( from https://jovian.com/ ):\u001b[0m\n",
      "API KEY: ········\n",
      "[jovian] Committed successfully! https://jovian.com/moseskinuthia73/flight-delay-prediction-cf174\u001b[0m\n"
     ]
    },
    {
     "data": {
      "text/plain": [
       "'https://jovian.com/moseskinuthia73/flight-delay-prediction-cf174'"
      ]
     },
     "execution_count": 78,
     "metadata": {},
     "output_type": "execute_result"
    }
   ],
   "source": [
    "jovian.commit()"
   ]
  }
 ],
 "metadata": {
  "kernelspec": {
   "display_name": "Python 3 (ipykernel)",
   "language": "python",
   "name": "python3"
  },
  "language_info": {
   "codemirror_mode": {
    "name": "ipython",
    "version": 3
   },
   "file_extension": ".py",
   "mimetype": "text/x-python",
   "name": "python",
   "nbconvert_exporter": "python",
   "pygments_lexer": "ipython3",
   "version": "3.10.13"
  }
 },
 "nbformat": 4,
 "nbformat_minor": 5
}
